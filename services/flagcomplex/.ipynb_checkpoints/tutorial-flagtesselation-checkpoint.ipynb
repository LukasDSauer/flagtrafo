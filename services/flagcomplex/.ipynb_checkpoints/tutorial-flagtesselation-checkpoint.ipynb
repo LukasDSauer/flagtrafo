{
 "cells": [
  {
   "cell_type": "code",
   "execution_count": 1,
   "metadata": {},
   "outputs": [],
   "source": [
    "from FlagComplex import FlagComplex\n",
    "from Examples import generate_random\n",
    "import drawSvg as draw\n",
    "from DrawingUtility import drawcirc\n",
    "\n",
    "from FlagTesselator import FlagTesselator"
   ]
  },
  {
   "cell_type": "code",
   "execution_count": 2,
   "metadata": {},
   "outputs": [],
   "source": [
    "fcomplex = generate_random(5)"
   ]
  },
  {
   "cell_type": "code",
   "execution_count": 3,
   "metadata": {},
   "outputs": [
    {
     "data": {
      "image/svg+xml": [
       "<?xml version=\"1.0\" encoding=\"UTF-8\"?>\n",
       "<svg xmlns=\"http://www.w3.org/2000/svg\" xmlns:xlink=\"http://www.w3.org/1999/xlink\"\n",
       "     width=\"1200\" height=\"1200.0\" viewBox=\"-200 -200 400 400\">\n",
       "<defs>\n",
       "</defs>\n",
       "<circle cx=\"0\" cy=\"0\" r=\"400\" fill=\"white\" stroke-width=\"1\" stroke=\"white\" />\n",
       "<circle cx=\"-148.76362923720433\" cy=\"23.563813320654052\" r=\"2\" fill=\"black\" stroke-width=\"1\" stroke=\"black\" />\n",
       "<path d=\"M-1075.8146123620468,-2829.605735564807 L778.2873538876382,2876.7333622061146\" stroke=\"black\" />\n",
       "<circle cx=\"29.589320487422853\" cy=\"52.227541114183396\" r=\"2\" fill=\"black\" stroke-width=\"1\" stroke=\"black\" />\n",
       "<path d=\"M-4556.553859459053,1545.0364584823908 L4615.732500433897,-1440.581376254024\" stroke=\"black\" />\n",
       "<circle cx=\"113.72374417563779\" cy=\"12.636886506131518\" r=\"2\" fill=\"black\" stroke-width=\"1\" stroke=\"black\" />\n",
       "<path d=\"M-2027.8172401587603,2113.541980130319 L2255.2647285100356,-2088.268207118056\" stroke=\"black\" />\n",
       "<circle cx=\"100.81690421529794\" cy=\"-69.57857066858242\" r=\"2\" fill=\"black\" stroke-width=\"1\" stroke=\"black\" />\n",
       "<path d=\"M2555.373010376623,1655.2849954450253 L-2353.739201946027,-1794.4421367821903\" stroke=\"black\" />\n",
       "<circle cx=\"-36.49995871020534\" cy=\"-93.29638275702452\" r=\"2\" fill=\"black\" stroke-width=\"1\" stroke=\"black\" />\n",
       "<path d=\"M2449.1054464914637,-1773.1076131136515 L-2522.1053639118745,1586.5148475996027\" stroke=\"black\" />\n",
       "</svg>"
      ],
      "text/plain": [
       "<drawSvg.drawing.Drawing at 0x7f4b3794d860>"
      ]
     },
     "execution_count": 3,
     "metadata": {},
     "output_type": "execute_result"
    }
   ],
   "source": [
    "d = draw.Drawing(400, 400,origin=(-200,-200))\n",
    "# White background for the pictures\n",
    "drawcirc(d,[0,0],4)\n",
    "# Render size for the pictures (resolution in terms of image width)\n",
    "d.setRenderSize(w=1200)\n",
    "\n",
    "fcomplex.create_triangulation()\n",
    "fcomplex.visualize(d, with_middle_triangles = False)\n",
    "d"
   ]
  },
  {
   "cell_type": "code",
   "execution_count": null,
   "metadata": {},
   "outputs": [],
   "source": [
    "ftesselator = FlagTesselator(fcomplex)\n",
    "d = fte"
   ]
  }
 ],
 "metadata": {
  "kernelspec": {
   "display_name": "Python 3",
   "language": "python",
   "name": "python3"
  },
  "language_info": {
   "codemirror_mode": {
    "name": "ipython",
    "version": 3
   },
   "file_extension": ".py",
   "mimetype": "text/x-python",
   "name": "python",
   "nbconvert_exporter": "python",
   "pygments_lexer": "ipython3",
   "version": "3.6.7"
  }
 },
 "nbformat": 4,
 "nbformat_minor": 2
}
